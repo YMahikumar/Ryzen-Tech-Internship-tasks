{
 "cells": [
  {
   "cell_type": "code",
   "execution_count": 1,
   "id": "94100d3c",
   "metadata": {
    "_cell_guid": "b1076dfc-b9ad-4769-8c92-a6c4dae69d19",
    "_uuid": "8f2839f25d086af736a60e9eeb907d3b93b6e0e5",
    "execution": {
     "iopub.execute_input": "2024-06-05T05:25:19.466384Z",
     "iopub.status.busy": "2024-06-05T05:25:19.465929Z",
     "iopub.status.idle": "2024-06-05T05:25:20.379567Z",
     "shell.execute_reply": "2024-06-05T05:25:20.378082Z"
    },
    "papermill": {
     "duration": 0.923937,
     "end_time": "2024-06-05T05:25:20.382612",
     "exception": false,
     "start_time": "2024-06-05T05:25:19.458675",
     "status": "completed"
    },
    "tags": []
   },
   "outputs": [
    {
     "name": "stdout",
     "output_type": "stream",
     "text": [
      "/kaggle/input/disease-prediction-data/Training.csv\n",
      "/kaggle/input/disease-prediction-data/Testing.csv\n"
     ]
    }
   ],
   "source": [
    "# This Python 3 environment comes with many helpful analytics libraries installed\n",
    "# It is defined by the kaggle/python Docker image: https://github.com/kaggle/docker-python\n",
    "# For example, here's several helpful packages to load\n",
    "\n",
    "import numpy as np # linear algebra\n",
    "import pandas as pd # data processing, CSV file I/O (e.g. pd.read_csv)\n",
    "\n",
    "# Input data files are available in the read-only \"../input/\" directory\n",
    "# For example, running this (by clicking run or pressing Shift+Enter) will list all files under the input directory\n",
    "\n",
    "import os\n",
    "for dirname, _, filenames in os.walk('/kaggle/input'):\n",
    "    for filename in filenames:\n",
    "        print(os.path.join(dirname, filename))\n",
    "\n",
    "# You can write up to 20GB to the current directory (/kaggle/working/) that gets preserved as output when you create a version using \"Save & Run All\" \n",
    "# You can also write temporary files to /kaggle/temp/, but they won't be saved outside of the current session"
   ]
  },
  {
   "cell_type": "markdown",
   "id": "7d186f0d",
   "metadata": {
    "papermill": {
     "duration": 0.005263,
     "end_time": "2024-06-05T05:25:20.393285",
     "exception": false,
     "start_time": "2024-06-05T05:25:20.388022",
     "status": "completed"
    },
    "tags": []
   },
   "source": [
    "This code snippet imports necessary libraries for building a neural network model using TensorFlow and scikit-learn for data preprocessing and evaluation."
   ]
  },
  {
   "cell_type": "code",
   "execution_count": 2,
   "id": "4b6e0065",
   "metadata": {
    "execution": {
     "iopub.execute_input": "2024-06-05T05:25:20.405752Z",
     "iopub.status.busy": "2024-06-05T05:25:20.404593Z",
     "iopub.status.idle": "2024-06-05T05:25:35.201183Z",
     "shell.execute_reply": "2024-06-05T05:25:35.200059Z"
    },
    "papermill": {
     "duration": 14.805431,
     "end_time": "2024-06-05T05:25:35.203785",
     "exception": false,
     "start_time": "2024-06-05T05:25:20.398354",
     "status": "completed"
    },
    "tags": []
   },
   "outputs": [
    {
     "name": "stderr",
     "output_type": "stream",
     "text": [
      "2024-06-05 05:25:23.881395: E external/local_xla/xla/stream_executor/cuda/cuda_dnn.cc:9261] Unable to register cuDNN factory: Attempting to register factory for plugin cuDNN when one has already been registered\n",
      "2024-06-05 05:25:23.881527: E external/local_xla/xla/stream_executor/cuda/cuda_fft.cc:607] Unable to register cuFFT factory: Attempting to register factory for plugin cuFFT when one has already been registered\n",
      "2024-06-05 05:25:24.048016: E external/local_xla/xla/stream_executor/cuda/cuda_blas.cc:1515] Unable to register cuBLAS factory: Attempting to register factory for plugin cuBLAS when one has already been registered\n"
     ]
    }
   ],
   "source": [
    "from sklearn.preprocessing import LabelEncoder, StandardScaler\n",
    "from tensorflow.keras.models import Sequential\n",
    "from tensorflow.keras.layers import Dense\n",
    "from tensorflow.keras.optimizers import Adam\n",
    "from tensorflow.keras.utils import to_categorical\n",
    "from sklearn.model_selection import train_test_split\n",
    "from sklearn.metrics import accuracy_score"
   ]
  },
  {
   "cell_type": "markdown",
   "id": "b6bb45da",
   "metadata": {
    "papermill": {
     "duration": 0.006726,
     "end_time": "2024-06-05T05:25:35.226124",
     "exception": false,
     "start_time": "2024-06-05T05:25:35.219398",
     "status": "completed"
    },
    "tags": []
   },
   "source": [
    "This code reads a CSV file containing training data for disease prediction from a specified path."
   ]
  },
  {
   "cell_type": "code",
   "execution_count": 3,
   "id": "ca76c52a",
   "metadata": {
    "execution": {
     "iopub.execute_input": "2024-06-05T05:25:35.240922Z",
     "iopub.status.busy": "2024-06-05T05:25:35.240146Z",
     "iopub.status.idle": "2024-06-05T05:25:35.332190Z",
     "shell.execute_reply": "2024-06-05T05:25:35.331023Z"
    },
    "papermill": {
     "duration": 0.101692,
     "end_time": "2024-06-05T05:25:35.334882",
     "exception": false,
     "start_time": "2024-06-05T05:25:35.233190",
     "status": "completed"
    },
    "tags": []
   },
   "outputs": [],
   "source": [
    "training_data = pd.read_csv('/kaggle/input/disease-prediction-data/Training.csv')"
   ]
  },
  {
   "cell_type": "markdown",
   "id": "3221cd2e",
   "metadata": {
    "papermill": {
     "duration": 0.004953,
     "end_time": "2024-06-05T05:25:35.345219",
     "exception": false,
     "start_time": "2024-06-05T05:25:35.340266",
     "status": "completed"
    },
    "tags": []
   },
   "source": [
    "This code removes the column 'Unnamed: 133' from the training data if it exists"
   ]
  },
  {
   "cell_type": "code",
   "execution_count": 4,
   "id": "33b593c7",
   "metadata": {
    "execution": {
     "iopub.execute_input": "2024-06-05T05:25:35.357617Z",
     "iopub.status.busy": "2024-06-05T05:25:35.357194Z",
     "iopub.status.idle": "2024-06-05T05:25:35.374722Z",
     "shell.execute_reply": "2024-06-05T05:25:35.373527Z"
    },
    "papermill": {
     "duration": 0.027002,
     "end_time": "2024-06-05T05:25:35.377625",
     "exception": false,
     "start_time": "2024-06-05T05:25:35.350623",
     "status": "completed"
    },
    "tags": []
   },
   "outputs": [],
   "source": [
    "if 'Unnamed: 133' in training_data.columns:\n",
    "    training_data = training_data.drop(columns=['Unnamed: 133'])"
   ]
  },
  {
   "cell_type": "markdown",
   "id": "a0d258e4",
   "metadata": {
    "papermill": {
     "duration": 0.005134,
     "end_time": "2024-06-05T05:25:35.388308",
     "exception": false,
     "start_time": "2024-06-05T05:25:35.383174",
     "status": "completed"
    },
    "tags": []
   },
   "source": [
    "This code creates a LabelEncoder object and encodes the 'prognosis' column in the training data, storing the encoded values in a new column named 'prognosis_encoded'."
   ]
  },
  {
   "cell_type": "code",
   "execution_count": 5,
   "id": "561d2735",
   "metadata": {
    "execution": {
     "iopub.execute_input": "2024-06-05T05:25:35.400409Z",
     "iopub.status.busy": "2024-06-05T05:25:35.400021Z",
     "iopub.status.idle": "2024-06-05T05:25:35.408009Z",
     "shell.execute_reply": "2024-06-05T05:25:35.406757Z"
    },
    "papermill": {
     "duration": 0.01654,
     "end_time": "2024-06-05T05:25:35.410103",
     "exception": false,
     "start_time": "2024-06-05T05:25:35.393563",
     "status": "completed"
    },
    "tags": []
   },
   "outputs": [],
   "source": [
    "label_encoder = LabelEncoder()\n",
    "training_data['prognosis_encoded'] = label_encoder.fit_transform(training_data['prognosis'])\n"
   ]
  },
  {
   "cell_type": "markdown",
   "id": "2ffe7955",
   "metadata": {
    "papermill": {
     "duration": 0.00512,
     "end_time": "2024-06-05T05:25:35.420766",
     "exception": false,
     "start_time": "2024-06-05T05:25:35.415646",
     "status": "completed"
    },
    "tags": []
   },
   "source": [
    "This code separates the features (X_train) and the target variable (y_train) from the training data, excluding both the original 'prognosis' column and the encoded 'prognosis_encoded' column.\n"
   ]
  },
  {
   "cell_type": "code",
   "execution_count": 6,
   "id": "9340db4a",
   "metadata": {
    "execution": {
     "iopub.execute_input": "2024-06-05T05:25:35.433021Z",
     "iopub.status.busy": "2024-06-05T05:25:35.432628Z",
     "iopub.status.idle": "2024-06-05T05:25:35.442690Z",
     "shell.execute_reply": "2024-06-05T05:25:35.441555Z"
    },
    "papermill": {
     "duration": 0.019228,
     "end_time": "2024-06-05T05:25:35.445263",
     "exception": false,
     "start_time": "2024-06-05T05:25:35.426035",
     "status": "completed"
    },
    "tags": []
   },
   "outputs": [],
   "source": [
    "X_train = training_data.drop(columns=['prognosis', 'prognosis_encoded'])\n",
    "y_train = training_data['prognosis_encoded']"
   ]
  },
  {
   "cell_type": "markdown",
   "id": "e2cb220f",
   "metadata": {
    "papermill": {
     "duration": 0.005123,
     "end_time": "2024-06-05T05:25:35.455934",
     "exception": false,
     "start_time": "2024-06-05T05:25:35.450811",
     "status": "completed"
    },
    "tags": []
   },
   "source": [
    "This code standardizes the features in X_train using StandardScaler, ensuring all features have a mean of 0 and a standard deviation of 1."
   ]
  },
  {
   "cell_type": "code",
   "execution_count": 7,
   "id": "d0177976",
   "metadata": {
    "execution": {
     "iopub.execute_input": "2024-06-05T05:25:35.468139Z",
     "iopub.status.busy": "2024-06-05T05:25:35.467755Z",
     "iopub.status.idle": "2024-06-05T05:25:35.498408Z",
     "shell.execute_reply": "2024-06-05T05:25:35.497260Z"
    },
    "papermill": {
     "duration": 0.039744,
     "end_time": "2024-06-05T05:25:35.500990",
     "exception": false,
     "start_time": "2024-06-05T05:25:35.461246",
     "status": "completed"
    },
    "tags": []
   },
   "outputs": [],
   "source": [
    "scaler = StandardScaler()\n",
    "X_train = scaler.fit_transform(X_train)"
   ]
  },
  {
   "cell_type": "code",
   "execution_count": 8,
   "id": "e8f30f28",
   "metadata": {
    "execution": {
     "iopub.execute_input": "2024-06-05T05:25:35.514428Z",
     "iopub.status.busy": "2024-06-05T05:25:35.513371Z",
     "iopub.status.idle": "2024-06-05T05:25:35.519195Z",
     "shell.execute_reply": "2024-06-05T05:25:35.518193Z"
    },
    "papermill": {
     "duration": 0.014677,
     "end_time": "2024-06-05T05:25:35.521407",
     "exception": false,
     "start_time": "2024-06-05T05:25:35.506730",
     "status": "completed"
    },
    "tags": []
   },
   "outputs": [],
   "source": [
    "y_train = to_categorical(y_train)"
   ]
  },
  {
   "cell_type": "markdown",
   "id": "4407990d",
   "metadata": {
    "papermill": {
     "duration": 0.005213,
     "end_time": "2024-06-05T05:25:35.532335",
     "exception": false,
     "start_time": "2024-06-05T05:25:35.527122",
     "status": "completed"
    },
    "tags": []
   },
   "source": [
    "This code splits the training data into training and validation sets (X_train, X_val, y_train, y_val) with a test size of 20% and a specified random state for reproducibility."
   ]
  },
  {
   "cell_type": "code",
   "execution_count": 9,
   "id": "bdc1f8af",
   "metadata": {
    "execution": {
     "iopub.execute_input": "2024-06-05T05:25:35.545788Z",
     "iopub.status.busy": "2024-06-05T05:25:35.545362Z",
     "iopub.status.idle": "2024-06-05T05:25:35.558166Z",
     "shell.execute_reply": "2024-06-05T05:25:35.556924Z"
    },
    "papermill": {
     "duration": 0.022925,
     "end_time": "2024-06-05T05:25:35.560784",
     "exception": false,
     "start_time": "2024-06-05T05:25:35.537859",
     "status": "completed"
    },
    "tags": []
   },
   "outputs": [],
   "source": [
    "X_train, X_val, y_train, y_val = train_test_split(X_train, y_train, test_size=0.2, random_state=2003)\n"
   ]
  },
  {
   "cell_type": "markdown",
   "id": "216bc241",
   "metadata": {
    "papermill": {
     "duration": 0.005423,
     "end_time": "2024-06-05T05:25:35.571851",
     "exception": false,
     "start_time": "2024-06-05T05:25:35.566428",
     "status": "completed"
    },
    "tags": []
   },
   "source": [
    "This code defines a sequential neural network model with input dimensionality determined by the number of features in X_train, followed by two dense layers with ReLU activation and a softmax output layer. It compiles the model using the Adam optimizer and categorical cross-entropy loss, then trains it for 50 epochs with a batch size of 32, validating on X_val and y_val. Finally, it evaluates the model's performance on the validation set and prints the validation loss and accuracy."
   ]
  },
  {
   "cell_type": "code",
   "execution_count": 10,
   "id": "7e3ee888",
   "metadata": {
    "execution": {
     "iopub.execute_input": "2024-06-05T05:25:35.585115Z",
     "iopub.status.busy": "2024-06-05T05:25:35.584337Z",
     "iopub.status.idle": "2024-06-05T05:25:50.889141Z",
     "shell.execute_reply": "2024-06-05T05:25:50.887530Z"
    },
    "papermill": {
     "duration": 15.314161,
     "end_time": "2024-06-05T05:25:50.891637",
     "exception": false,
     "start_time": "2024-06-05T05:25:35.577476",
     "status": "completed"
    },
    "tags": []
   },
   "outputs": [
    {
     "name": "stdout",
     "output_type": "stream",
     "text": [
      "Epoch 1/50\n"
     ]
    },
    {
     "name": "stderr",
     "output_type": "stream",
     "text": [
      "/opt/conda/lib/python3.10/site-packages/keras/src/layers/core/dense.py:87: UserWarning: Do not pass an `input_shape`/`input_dim` argument to a layer. When using Sequential models, prefer using an `Input(shape)` object as the first layer in the model instead.\n",
      "  super().__init__(activity_regularizer=activity_regularizer, **kwargs)\n"
     ]
    },
    {
     "name": "stdout",
     "output_type": "stream",
     "text": [
      "\u001b[1m123/123\u001b[0m \u001b[32m━━━━━━━━━━━━━━━━━━━━\u001b[0m\u001b[37m\u001b[0m \u001b[1m2s\u001b[0m 4ms/step - accuracy: 0.6076 - loss: 1.9874 - val_accuracy: 1.0000 - val_loss: 0.0347\n",
      "Epoch 2/50\n",
      "\u001b[1m123/123\u001b[0m \u001b[32m━━━━━━━━━━━━━━━━━━━━\u001b[0m\u001b[37m\u001b[0m \u001b[1m0s\u001b[0m 2ms/step - accuracy: 1.0000 - loss: 0.0218 - val_accuracy: 1.0000 - val_loss: 0.0086\n",
      "Epoch 3/50\n",
      "\u001b[1m123/123\u001b[0m \u001b[32m━━━━━━━━━━━━━━━━━━━━\u001b[0m\u001b[37m\u001b[0m \u001b[1m0s\u001b[0m 2ms/step - accuracy: 1.0000 - loss: 0.0064 - val_accuracy: 1.0000 - val_loss: 0.0043\n",
      "Epoch 4/50\n",
      "\u001b[1m123/123\u001b[0m \u001b[32m━━━━━━━━━━━━━━━━━━━━\u001b[0m\u001b[37m\u001b[0m \u001b[1m0s\u001b[0m 2ms/step - accuracy: 1.0000 - loss: 0.0031 - val_accuracy: 1.0000 - val_loss: 0.0025\n",
      "Epoch 5/50\n",
      "\u001b[1m123/123\u001b[0m \u001b[32m━━━━━━━━━━━━━━━━━━━━\u001b[0m\u001b[37m\u001b[0m \u001b[1m0s\u001b[0m 2ms/step - accuracy: 1.0000 - loss: 0.0020 - val_accuracy: 1.0000 - val_loss: 0.0017\n",
      "Epoch 6/50\n",
      "\u001b[1m123/123\u001b[0m \u001b[32m━━━━━━━━━━━━━━━━━━━━\u001b[0m\u001b[37m\u001b[0m \u001b[1m0s\u001b[0m 2ms/step - accuracy: 1.0000 - loss: 0.0013 - val_accuracy: 1.0000 - val_loss: 0.0012\n",
      "Epoch 7/50\n",
      "\u001b[1m123/123\u001b[0m \u001b[32m━━━━━━━━━━━━━━━━━━━━\u001b[0m\u001b[37m\u001b[0m \u001b[1m0s\u001b[0m 2ms/step - accuracy: 1.0000 - loss: 8.9674e-04 - val_accuracy: 1.0000 - val_loss: 9.1561e-04\n",
      "Epoch 8/50\n",
      "\u001b[1m123/123\u001b[0m \u001b[32m━━━━━━━━━━━━━━━━━━━━\u001b[0m\u001b[37m\u001b[0m \u001b[1m0s\u001b[0m 2ms/step - accuracy: 1.0000 - loss: 7.1597e-04 - val_accuracy: 1.0000 - val_loss: 7.4352e-04\n",
      "Epoch 9/50\n",
      "\u001b[1m123/123\u001b[0m \u001b[32m━━━━━━━━━━━━━━━━━━━━\u001b[0m\u001b[37m\u001b[0m \u001b[1m0s\u001b[0m 2ms/step - accuracy: 1.0000 - loss: 5.8129e-04 - val_accuracy: 1.0000 - val_loss: 5.8649e-04\n",
      "Epoch 10/50\n",
      "\u001b[1m123/123\u001b[0m \u001b[32m━━━━━━━━━━━━━━━━━━━━\u001b[0m\u001b[37m\u001b[0m \u001b[1m0s\u001b[0m 2ms/step - accuracy: 1.0000 - loss: 4.4681e-04 - val_accuracy: 1.0000 - val_loss: 4.7757e-04\n",
      "Epoch 11/50\n",
      "\u001b[1m123/123\u001b[0m \u001b[32m━━━━━━━━━━━━━━━━━━━━\u001b[0m\u001b[37m\u001b[0m \u001b[1m0s\u001b[0m 2ms/step - accuracy: 1.0000 - loss: 3.8361e-04 - val_accuracy: 1.0000 - val_loss: 4.0225e-04\n",
      "Epoch 12/50\n",
      "\u001b[1m123/123\u001b[0m \u001b[32m━━━━━━━━━━━━━━━━━━━━\u001b[0m\u001b[37m\u001b[0m \u001b[1m0s\u001b[0m 2ms/step - accuracy: 1.0000 - loss: 3.0441e-04 - val_accuracy: 1.0000 - val_loss: 3.4533e-04\n",
      "Epoch 13/50\n",
      "\u001b[1m123/123\u001b[0m \u001b[32m━━━━━━━━━━━━━━━━━━━━\u001b[0m\u001b[37m\u001b[0m \u001b[1m0s\u001b[0m 2ms/step - accuracy: 1.0000 - loss: 2.5769e-04 - val_accuracy: 1.0000 - val_loss: 2.8982e-04\n",
      "Epoch 14/50\n",
      "\u001b[1m123/123\u001b[0m \u001b[32m━━━━━━━━━━━━━━━━━━━━\u001b[0m\u001b[37m\u001b[0m \u001b[1m0s\u001b[0m 2ms/step - accuracy: 1.0000 - loss: 2.2437e-04 - val_accuracy: 1.0000 - val_loss: 2.4668e-04\n",
      "Epoch 15/50\n",
      "\u001b[1m123/123\u001b[0m \u001b[32m━━━━━━━━━━━━━━━━━━━━\u001b[0m\u001b[37m\u001b[0m \u001b[1m0s\u001b[0m 2ms/step - accuracy: 1.0000 - loss: 1.9354e-04 - val_accuracy: 1.0000 - val_loss: 2.1671e-04\n",
      "Epoch 16/50\n",
      "\u001b[1m123/123\u001b[0m \u001b[32m━━━━━━━━━━━━━━━━━━━━\u001b[0m\u001b[37m\u001b[0m \u001b[1m0s\u001b[0m 2ms/step - accuracy: 1.0000 - loss: 1.6847e-04 - val_accuracy: 1.0000 - val_loss: 1.8969e-04\n",
      "Epoch 17/50\n",
      "\u001b[1m123/123\u001b[0m \u001b[32m━━━━━━━━━━━━━━━━━━━━\u001b[0m\u001b[37m\u001b[0m \u001b[1m0s\u001b[0m 2ms/step - accuracy: 1.0000 - loss: 1.4942e-04 - val_accuracy: 1.0000 - val_loss: 1.6625e-04\n",
      "Epoch 18/50\n",
      "\u001b[1m123/123\u001b[0m \u001b[32m━━━━━━━━━━━━━━━━━━━━\u001b[0m\u001b[37m\u001b[0m \u001b[1m0s\u001b[0m 2ms/step - accuracy: 1.0000 - loss: 1.3011e-04 - val_accuracy: 1.0000 - val_loss: 1.4733e-04\n",
      "Epoch 19/50\n",
      "\u001b[1m123/123\u001b[0m \u001b[32m━━━━━━━━━━━━━━━━━━━━\u001b[0m\u001b[37m\u001b[0m \u001b[1m0s\u001b[0m 2ms/step - accuracy: 1.0000 - loss: 1.1219e-04 - val_accuracy: 1.0000 - val_loss: 1.3086e-04\n",
      "Epoch 20/50\n",
      "\u001b[1m123/123\u001b[0m \u001b[32m━━━━━━━━━━━━━━━━━━━━\u001b[0m\u001b[37m\u001b[0m \u001b[1m1s\u001b[0m 2ms/step - accuracy: 1.0000 - loss: 1.1169e-04 - val_accuracy: 1.0000 - val_loss: 1.1783e-04\n",
      "Epoch 21/50\n",
      "\u001b[1m123/123\u001b[0m \u001b[32m━━━━━━━━━━━━━━━━━━━━\u001b[0m\u001b[37m\u001b[0m \u001b[1m0s\u001b[0m 2ms/step - accuracy: 1.0000 - loss: 8.9401e-05 - val_accuracy: 1.0000 - val_loss: 1.0488e-04\n",
      "Epoch 22/50\n",
      "\u001b[1m123/123\u001b[0m \u001b[32m━━━━━━━━━━━━━━━━━━━━\u001b[0m\u001b[37m\u001b[0m \u001b[1m0s\u001b[0m 2ms/step - accuracy: 1.0000 - loss: 8.4555e-05 - val_accuracy: 1.0000 - val_loss: 9.5939e-05\n",
      "Epoch 23/50\n",
      "\u001b[1m123/123\u001b[0m \u001b[32m━━━━━━━━━━━━━━━━━━━━\u001b[0m\u001b[37m\u001b[0m \u001b[1m0s\u001b[0m 2ms/step - accuracy: 1.0000 - loss: 7.5884e-05 - val_accuracy: 1.0000 - val_loss: 8.5435e-05\n",
      "Epoch 24/50\n",
      "\u001b[1m123/123\u001b[0m \u001b[32m━━━━━━━━━━━━━━━━━━━━\u001b[0m\u001b[37m\u001b[0m \u001b[1m0s\u001b[0m 2ms/step - accuracy: 1.0000 - loss: 6.4732e-05 - val_accuracy: 1.0000 - val_loss: 7.8902e-05\n",
      "Epoch 25/50\n",
      "\u001b[1m123/123\u001b[0m \u001b[32m━━━━━━━━━━━━━━━━━━━━\u001b[0m\u001b[37m\u001b[0m \u001b[1m0s\u001b[0m 2ms/step - accuracy: 1.0000 - loss: 6.5742e-05 - val_accuracy: 1.0000 - val_loss: 7.0338e-05\n",
      "Epoch 26/50\n",
      "\u001b[1m123/123\u001b[0m \u001b[32m━━━━━━━━━━━━━━━━━━━━\u001b[0m\u001b[37m\u001b[0m \u001b[1m0s\u001b[0m 2ms/step - accuracy: 1.0000 - loss: 5.1802e-05 - val_accuracy: 1.0000 - val_loss: 6.4478e-05\n",
      "Epoch 27/50\n",
      "\u001b[1m123/123\u001b[0m \u001b[32m━━━━━━━━━━━━━━━━━━━━\u001b[0m\u001b[37m\u001b[0m \u001b[1m0s\u001b[0m 2ms/step - accuracy: 1.0000 - loss: 4.7259e-05 - val_accuracy: 1.0000 - val_loss: 5.8559e-05\n",
      "Epoch 28/50\n",
      "\u001b[1m123/123\u001b[0m \u001b[32m━━━━━━━━━━━━━━━━━━━━\u001b[0m\u001b[37m\u001b[0m \u001b[1m0s\u001b[0m 2ms/step - accuracy: 1.0000 - loss: 4.3695e-05 - val_accuracy: 1.0000 - val_loss: 5.2357e-05\n",
      "Epoch 29/50\n",
      "\u001b[1m123/123\u001b[0m \u001b[32m━━━━━━━━━━━━━━━━━━━━\u001b[0m\u001b[37m\u001b[0m \u001b[1m0s\u001b[0m 2ms/step - accuracy: 1.0000 - loss: 4.0908e-05 - val_accuracy: 1.0000 - val_loss: 4.8198e-05\n",
      "Epoch 30/50\n",
      "\u001b[1m123/123\u001b[0m \u001b[32m━━━━━━━━━━━━━━━━━━━━\u001b[0m\u001b[37m\u001b[0m \u001b[1m0s\u001b[0m 2ms/step - accuracy: 1.0000 - loss: 3.8440e-05 - val_accuracy: 1.0000 - val_loss: 4.3969e-05\n",
      "Epoch 31/50\n",
      "\u001b[1m123/123\u001b[0m \u001b[32m━━━━━━━━━━━━━━━━━━━━\u001b[0m\u001b[37m\u001b[0m \u001b[1m0s\u001b[0m 2ms/step - accuracy: 1.0000 - loss: 3.3279e-05 - val_accuracy: 1.0000 - val_loss: 4.0329e-05\n",
      "Epoch 32/50\n",
      "\u001b[1m123/123\u001b[0m \u001b[32m━━━━━━━━━━━━━━━━━━━━\u001b[0m\u001b[37m\u001b[0m \u001b[1m0s\u001b[0m 2ms/step - accuracy: 1.0000 - loss: 3.4162e-05 - val_accuracy: 1.0000 - val_loss: 3.7388e-05\n",
      "Epoch 33/50\n",
      "\u001b[1m123/123\u001b[0m \u001b[32m━━━━━━━━━━━━━━━━━━━━\u001b[0m\u001b[37m\u001b[0m \u001b[1m0s\u001b[0m 2ms/step - accuracy: 1.0000 - loss: 2.8318e-05 - val_accuracy: 1.0000 - val_loss: 3.3948e-05\n",
      "Epoch 34/50\n",
      "\u001b[1m123/123\u001b[0m \u001b[32m━━━━━━━━━━━━━━━━━━━━\u001b[0m\u001b[37m\u001b[0m \u001b[1m0s\u001b[0m 2ms/step - accuracy: 1.0000 - loss: 2.8025e-05 - val_accuracy: 1.0000 - val_loss: 3.1439e-05\n",
      "Epoch 35/50\n",
      "\u001b[1m123/123\u001b[0m \u001b[32m━━━━━━━━━━━━━━━━━━━━\u001b[0m\u001b[37m\u001b[0m \u001b[1m0s\u001b[0m 2ms/step - accuracy: 1.0000 - loss: 2.6213e-05 - val_accuracy: 1.0000 - val_loss: 2.8851e-05\n",
      "Epoch 36/50\n",
      "\u001b[1m123/123\u001b[0m \u001b[32m━━━━━━━━━━━━━━━━━━━━\u001b[0m\u001b[37m\u001b[0m \u001b[1m0s\u001b[0m 2ms/step - accuracy: 1.0000 - loss: 2.3063e-05 - val_accuracy: 1.0000 - val_loss: 2.6581e-05\n",
      "Epoch 37/50\n",
      "\u001b[1m123/123\u001b[0m \u001b[32m━━━━━━━━━━━━━━━━━━━━\u001b[0m\u001b[37m\u001b[0m \u001b[1m0s\u001b[0m 2ms/step - accuracy: 1.0000 - loss: 2.0319e-05 - val_accuracy: 1.0000 - val_loss: 2.4680e-05\n",
      "Epoch 38/50\n",
      "\u001b[1m123/123\u001b[0m \u001b[32m━━━━━━━━━━━━━━━━━━━━\u001b[0m\u001b[37m\u001b[0m \u001b[1m0s\u001b[0m 2ms/step - accuracy: 1.0000 - loss: 1.8996e-05 - val_accuracy: 1.0000 - val_loss: 2.2665e-05\n",
      "Epoch 39/50\n",
      "\u001b[1m123/123\u001b[0m \u001b[32m━━━━━━━━━━━━━━━━━━━━\u001b[0m\u001b[37m\u001b[0m \u001b[1m0s\u001b[0m 2ms/step - accuracy: 1.0000 - loss: 1.7772e-05 - val_accuracy: 1.0000 - val_loss: 2.1028e-05\n",
      "Epoch 40/50\n",
      "\u001b[1m123/123\u001b[0m \u001b[32m━━━━━━━━━━━━━━━━━━━━\u001b[0m\u001b[37m\u001b[0m \u001b[1m0s\u001b[0m 2ms/step - accuracy: 1.0000 - loss: 1.6847e-05 - val_accuracy: 1.0000 - val_loss: 1.9346e-05\n",
      "Epoch 41/50\n",
      "\u001b[1m123/123\u001b[0m \u001b[32m━━━━━━━━━━━━━━━━━━━━\u001b[0m\u001b[37m\u001b[0m \u001b[1m0s\u001b[0m 2ms/step - accuracy: 1.0000 - loss: 1.5462e-05 - val_accuracy: 1.0000 - val_loss: 1.8029e-05\n",
      "Epoch 42/50\n",
      "\u001b[1m123/123\u001b[0m \u001b[32m━━━━━━━━━━━━━━━━━━━━\u001b[0m\u001b[37m\u001b[0m \u001b[1m0s\u001b[0m 2ms/step - accuracy: 1.0000 - loss: 1.4891e-05 - val_accuracy: 1.0000 - val_loss: 1.6644e-05\n",
      "Epoch 43/50\n",
      "\u001b[1m123/123\u001b[0m \u001b[32m━━━━━━━━━━━━━━━━━━━━\u001b[0m\u001b[37m\u001b[0m \u001b[1m0s\u001b[0m 2ms/step - accuracy: 1.0000 - loss: 1.3065e-05 - val_accuracy: 1.0000 - val_loss: 1.5444e-05\n",
      "Epoch 44/50\n",
      "\u001b[1m123/123\u001b[0m \u001b[32m━━━━━━━━━━━━━━━━━━━━\u001b[0m\u001b[37m\u001b[0m \u001b[1m0s\u001b[0m 2ms/step - accuracy: 1.0000 - loss: 1.2552e-05 - val_accuracy: 1.0000 - val_loss: 1.4242e-05\n",
      "Epoch 45/50\n",
      "\u001b[1m123/123\u001b[0m \u001b[32m━━━━━━━━━━━━━━━━━━━━\u001b[0m\u001b[37m\u001b[0m \u001b[1m0s\u001b[0m 2ms/step - accuracy: 1.0000 - loss: 1.1800e-05 - val_accuracy: 1.0000 - val_loss: 1.3326e-05\n",
      "Epoch 46/50\n",
      "\u001b[1m123/123\u001b[0m \u001b[32m━━━━━━━━━━━━━━━━━━━━\u001b[0m\u001b[37m\u001b[0m \u001b[1m0s\u001b[0m 2ms/step - accuracy: 1.0000 - loss: 1.0704e-05 - val_accuracy: 1.0000 - val_loss: 1.2497e-05\n",
      "Epoch 47/50\n",
      "\u001b[1m123/123\u001b[0m \u001b[32m━━━━━━━━━━━━━━━━━━━━\u001b[0m\u001b[37m\u001b[0m \u001b[1m0s\u001b[0m 2ms/step - accuracy: 1.0000 - loss: 8.9739e-06 - val_accuracy: 1.0000 - val_loss: 1.1392e-05\n",
      "Epoch 48/50\n",
      "\u001b[1m123/123\u001b[0m \u001b[32m━━━━━━━━━━━━━━━━━━━━\u001b[0m\u001b[37m\u001b[0m \u001b[1m0s\u001b[0m 2ms/step - accuracy: 1.0000 - loss: 8.7876e-06 - val_accuracy: 1.0000 - val_loss: 1.0579e-05\n",
      "Epoch 49/50\n",
      "\u001b[1m123/123\u001b[0m \u001b[32m━━━━━━━━━━━━━━━━━━━━\u001b[0m\u001b[37m\u001b[0m \u001b[1m0s\u001b[0m 2ms/step - accuracy: 1.0000 - loss: 8.2304e-06 - val_accuracy: 1.0000 - val_loss: 9.7744e-06\n",
      "Epoch 50/50\n",
      "\u001b[1m123/123\u001b[0m \u001b[32m━━━━━━━━━━━━━━━━━━━━\u001b[0m\u001b[37m\u001b[0m \u001b[1m0s\u001b[0m 2ms/step - accuracy: 1.0000 - loss: 8.0825e-06 - val_accuracy: 1.0000 - val_loss: 9.0668e-06\n",
      "\u001b[1m31/31\u001b[0m \u001b[32m━━━━━━━━━━━━━━━━━━━━\u001b[0m\u001b[37m\u001b[0m \u001b[1m0s\u001b[0m 1ms/step - accuracy: 1.0000 - loss: 9.4975e-06 \n",
      "Validation Loss: 9.066753591469023e-06\n",
      "Validation Accuracy: 1.0\n"
     ]
    }
   ],
   "source": [
    "model = Sequential()\n",
    "model.add(Dense(128, input_dim=X_train.shape[1], activation='relu'))\n",
    "model.add(Dense(64, activation='relu'))\n",
    "model.add(Dense(y_train.shape[1], activation='softmax'))\n",
    "\n",
    "\n",
    "optimizer = Adam()\n",
    "model.compile(optimizer=optimizer, loss='categorical_crossentropy', metrics=['accuracy'])\n",
    "\n",
    "model.fit(X_train, y_train, epochs=50, batch_size=32, validation_data=(X_val, y_val))\n",
    "\n",
    "val_loss, val_accuracy = model.evaluate(X_val, y_val)\n",
    "print(f\"Validation Loss: {val_loss}\")\n",
    "print(f\"Validation Accuracy: {val_accuracy}\")"
   ]
  },
  {
   "cell_type": "code",
   "execution_count": 11,
   "id": "63d17e55",
   "metadata": {
    "execution": {
     "iopub.execute_input": "2024-06-05T05:25:50.945377Z",
     "iopub.status.busy": "2024-06-05T05:25:50.944946Z",
     "iopub.status.idle": "2024-06-05T05:25:50.960955Z",
     "shell.execute_reply": "2024-06-05T05:25:50.959874Z"
    },
    "papermill": {
     "duration": 0.046206,
     "end_time": "2024-06-05T05:25:50.963600",
     "exception": false,
     "start_time": "2024-06-05T05:25:50.917394",
     "status": "completed"
    },
    "tags": []
   },
   "outputs": [],
   "source": [
    "test_data = pd.read_csv('/kaggle/input/disease-prediction-data/Testing.csv')"
   ]
  },
  {
   "cell_type": "code",
   "execution_count": 12,
   "id": "45109251",
   "metadata": {
    "execution": {
     "iopub.execute_input": "2024-06-05T05:25:51.017669Z",
     "iopub.status.busy": "2024-06-05T05:25:51.017241Z",
     "iopub.status.idle": "2024-06-05T05:25:51.022812Z",
     "shell.execute_reply": "2024-06-05T05:25:51.021656Z"
    },
    "papermill": {
     "duration": 0.034873,
     "end_time": "2024-06-05T05:25:51.025232",
     "exception": false,
     "start_time": "2024-06-05T05:25:50.990359",
     "status": "completed"
    },
    "tags": []
   },
   "outputs": [],
   "source": [
    "if 'Unnamed: 133' in test_data.columns:\n",
    "    test_data = test_data.drop(columns=['Unnamed: 133'])"
   ]
  },
  {
   "cell_type": "code",
   "execution_count": 13,
   "id": "eb7d0a58",
   "metadata": {
    "execution": {
     "iopub.execute_input": "2024-06-05T05:25:51.077901Z",
     "iopub.status.busy": "2024-06-05T05:25:51.077441Z",
     "iopub.status.idle": "2024-06-05T05:25:51.084188Z",
     "shell.execute_reply": "2024-06-05T05:25:51.082909Z"
    },
    "papermill": {
     "duration": 0.03633,
     "end_time": "2024-06-05T05:25:51.086927",
     "exception": false,
     "start_time": "2024-06-05T05:25:51.050597",
     "status": "completed"
    },
    "tags": []
   },
   "outputs": [],
   "source": [
    "X_test = test_data.drop(columns=['prognosis'])\n",
    "y_test = test_data['prognosis']\n"
   ]
  },
  {
   "cell_type": "code",
   "execution_count": 14,
   "id": "f0f4f34f",
   "metadata": {
    "execution": {
     "iopub.execute_input": "2024-06-05T05:25:51.140017Z",
     "iopub.status.busy": "2024-06-05T05:25:51.139626Z",
     "iopub.status.idle": "2024-06-05T05:25:51.149677Z",
     "shell.execute_reply": "2024-06-05T05:25:51.148298Z"
    },
    "papermill": {
     "duration": 0.039117,
     "end_time": "2024-06-05T05:25:51.151982",
     "exception": false,
     "start_time": "2024-06-05T05:25:51.112865",
     "status": "completed"
    },
    "tags": []
   },
   "outputs": [],
   "source": [
    "X_test = scaler.transform(X_test)"
   ]
  },
  {
   "cell_type": "markdown",
   "id": "cf9f04e7",
   "metadata": {
    "papermill": {
     "duration": 0.025717,
     "end_time": "2024-06-05T05:25:51.203013",
     "exception": false,
     "start_time": "2024-06-05T05:25:51.177296",
     "status": "completed"
    },
    "tags": []
   },
   "source": [
    "This code generates predictions (y_pred) for the test data (X_test) using the trained model and then converts these predictions into class labels (y_pred_labels) by selecting the index of the highest probability for each prediction."
   ]
  },
  {
   "cell_type": "code",
   "execution_count": 15,
   "id": "605164e7",
   "metadata": {
    "execution": {
     "iopub.execute_input": "2024-06-05T05:25:51.257241Z",
     "iopub.status.busy": "2024-06-05T05:25:51.256832Z",
     "iopub.status.idle": "2024-06-05T05:25:51.416158Z",
     "shell.execute_reply": "2024-06-05T05:25:51.415020Z"
    },
    "papermill": {
     "duration": 0.190445,
     "end_time": "2024-06-05T05:25:51.418828",
     "exception": false,
     "start_time": "2024-06-05T05:25:51.228383",
     "status": "completed"
    },
    "tags": []
   },
   "outputs": [
    {
     "name": "stdout",
     "output_type": "stream",
     "text": [
      "\u001b[1m2/2\u001b[0m \u001b[32m━━━━━━━━━━━━━━━━━━━━\u001b[0m\u001b[37m\u001b[0m \u001b[1m0s\u001b[0m 36ms/step\n"
     ]
    }
   ],
   "source": [
    "y_test_encoded = label_encoder.transform(y_test)\n",
    "y_test_categorical = to_categorical(y_test_encoded)\n",
    "y_pred = model.predict(X_test)\n",
    "y_pred_labels = np.argmax(y_pred, axis=1)"
   ]
  },
  {
   "cell_type": "code",
   "execution_count": 16,
   "id": "46a43cea",
   "metadata": {
    "execution": {
     "iopub.execute_input": "2024-06-05T05:25:51.471436Z",
     "iopub.status.busy": "2024-06-05T05:25:51.471012Z",
     "iopub.status.idle": "2024-06-05T05:25:51.478562Z",
     "shell.execute_reply": "2024-06-05T05:25:51.477012Z"
    },
    "papermill": {
     "duration": 0.036588,
     "end_time": "2024-06-05T05:25:51.480979",
     "exception": false,
     "start_time": "2024-06-05T05:25:51.444391",
     "status": "completed"
    },
    "tags": []
   },
   "outputs": [
    {
     "name": "stdout",
     "output_type": "stream",
     "text": [
      "Test Accuracy: 1.0\n"
     ]
    }
   ],
   "source": [
    "test_accuracy = accuracy_score(y_test_encoded, y_pred_labels)\n",
    "print(f\"Test Accuracy: {test_accuracy}\")\n"
   ]
  },
  {
   "cell_type": "code",
   "execution_count": null,
   "id": "91c6f28b",
   "metadata": {
    "papermill": {
     "duration": 0.02566,
     "end_time": "2024-06-05T05:25:51.532909",
     "exception": false,
     "start_time": "2024-06-05T05:25:51.507249",
     "status": "completed"
    },
    "tags": []
   },
   "outputs": [],
   "source": []
  }
 ],
 "metadata": {
  "kaggle": {
   "accelerator": "none",
   "dataSources": [
    {
     "datasetId": 4355022,
     "sourceId": 7481233,
     "sourceType": "datasetVersion"
    }
   ],
   "dockerImageVersionId": 30715,
   "isGpuEnabled": false,
   "isInternetEnabled": true,
   "language": "python",
   "sourceType": "notebook"
  },
  "kernelspec": {
   "display_name": "Python 3",
   "language": "python",
   "name": "python3"
  },
  "language_info": {
   "codemirror_mode": {
    "name": "ipython",
    "version": 3
   },
   "file_extension": ".py",
   "mimetype": "text/x-python",
   "name": "python",
   "nbconvert_exporter": "python",
   "pygments_lexer": "ipython3",
   "version": "3.10.13"
  },
  "papermill": {
   "default_parameters": {},
   "duration": 36.480315,
   "end_time": "2024-06-05T05:25:53.084541",
   "environment_variables": {},
   "exception": null,
   "input_path": "__notebook__.ipynb",
   "output_path": "__notebook__.ipynb",
   "parameters": {},
   "start_time": "2024-06-05T05:25:16.604226",
   "version": "2.5.0"
  }
 },
 "nbformat": 4,
 "nbformat_minor": 5
}
